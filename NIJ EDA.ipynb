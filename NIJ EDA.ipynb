{
 "cells": [
  {
   "cell_type": "code",
   "execution_count": 1,
   "metadata": {
    "collapsed": false
   },
   "outputs": [],
   "source": [
    "import psycopg2\n",
    "import matplotlib.pyplot as plt\n",
    "import numpy as np\n",
    "import pandas as pd\n",
    "import seaborn as sns\n",
    "%matplotlib inline "
   ]
  },
  {
   "cell_type": "code",
   "execution_count": 2,
   "metadata": {
    "collapsed": false
   },
   "outputs": [
    {
     "name": "stdout",
     "output_type": "stream",
     "text": [
      "Opened database successfully\n"
     ]
    }
   ],
   "source": [
    "# connect to postgres db on vb\n",
    "\n",
    "try:\n",
    "    conn = psycopg2.connect(database='vagrant', user='newuser', password = 'emergency', host='localhost', port='5432')\n",
    "    print(\"Opened database successfully\")\n",
    "    \n",
    "except psycopg2.Error as e:\n",
    "    print(\"I am unable to connect to the database\")\n",
    "    print(e)\n",
    "    print(e.pgcode)\n",
    "    print(e.pgerror)\n",
    "    print(traceback.format_exc())"
   ]
  },
  {
   "cell_type": "code",
   "execution_count": 3,
   "metadata": {
    "collapsed": false
   },
   "outputs": [
    {
     "name": "stdout",
     "output_type": "stream",
     "text": [
      "SQL QUERY = SELECT census_tract, date_trunc('week', occ_date) AS week, count(*) AS num\n",
      "    FROM (SELECT * FROM nij.nij_2013\n",
      "    UNION ALL\n",
      "    SELECT * FROM nij.nij_2014\n",
      "    UNION ALL\n",
      "    SELECT * FROM nij.nij_2015) AS subq\n",
      "    GROUP BY week, census_tract\n",
      "    ORDER BY week, census_tract;\n"
     ]
    },
    {
     "data": {
      "text/html": [
       "<div>\n",
       "<table border=\"1\" class=\"dataframe\">\n",
       "  <thead>\n",
       "    <tr style=\"text-align: right;\">\n",
       "      <th></th>\n",
       "      <th>census_tract</th>\n",
       "      <th>week</th>\n",
       "      <th>num</th>\n",
       "    </tr>\n",
       "  </thead>\n",
       "  <tbody>\n",
       "    <tr>\n",
       "      <th>0</th>\n",
       "      <td>100.0</td>\n",
       "      <td>2012-12-31 00:00:00+00:00</td>\n",
       "      <td>12</td>\n",
       "    </tr>\n",
       "    <tr>\n",
       "      <th>1</th>\n",
       "      <td>200.0</td>\n",
       "      <td>2012-12-31 00:00:00+00:00</td>\n",
       "      <td>14</td>\n",
       "    </tr>\n",
       "    <tr>\n",
       "      <th>2</th>\n",
       "      <td>301.0</td>\n",
       "      <td>2012-12-31 00:00:00+00:00</td>\n",
       "      <td>12</td>\n",
       "    </tr>\n",
       "    <tr>\n",
       "      <th>3</th>\n",
       "      <td>302.0</td>\n",
       "      <td>2012-12-31 00:00:00+00:00</td>\n",
       "      <td>8</td>\n",
       "    </tr>\n",
       "    <tr>\n",
       "      <th>4</th>\n",
       "      <td>401.0</td>\n",
       "      <td>2012-12-31 00:00:00+00:00</td>\n",
       "      <td>12</td>\n",
       "    </tr>\n",
       "  </tbody>\n",
       "</table>\n",
       "</div>"
      ],
      "text/plain": [
       "   census_tract                      week  num\n",
       "0         100.0 2012-12-31 00:00:00+00:00   12\n",
       "1         200.0 2012-12-31 00:00:00+00:00   14\n",
       "2         301.0 2012-12-31 00:00:00+00:00   12\n",
       "3         302.0 2012-12-31 00:00:00+00:00    8\n",
       "4         401.0 2012-12-31 00:00:00+00:00   12"
      ]
     },
     "execution_count": 3,
     "metadata": {},
     "output_type": "execute_result"
    }
   ],
   "source": [
    "'''\n",
    "query psql to pull number of crimes by census track by week from 2013 - 2015\n",
    "inserts query result in pandas df called df2\n",
    "'''\n",
    "\n",
    "cur = conn.cursor()\n",
    "QUERY='''SELECT census_tract, date_trunc('week', occ_date) AS week, count(*) AS num\n",
    "    FROM (SELECT * FROM nij.nij_2013\n",
    "    UNION ALL\n",
    "    SELECT * FROM nij.nij_2014\n",
    "    UNION ALL\n",
    "    SELECT * FROM nij.nij_2015) AS subq\n",
    "    GROUP BY week, census_tract\n",
    "    ORDER BY week, census_tract;'''\n",
    "\n",
    "try:\n",
    "    print(\"SQL QUERY = \"+QUERY)\n",
    "    cur.execute(QUERY)\n",
    "\n",
    "except Exception as e:\n",
    "    print(e.pgerror)\n",
    "    \n",
    "# Extract the column names and insert them in header\n",
    "col_names = []\n",
    "for elt in cur.description:\n",
    "    col_names.append(elt[0])    \n",
    "    \n",
    "D = cur.fetchall() #convert query result to list\n",
    "#pprint(D)\n",
    "df = pd.DataFrame(D) #convert to pandas df\n",
    "conn.close()\n",
    "df.head() # print the df head\n",
    "\n",
    "\n",
    "# Create the dataframe, passing in the list of col_names extracted from the description\n",
    "df2 = pd.DataFrame(D, columns=col_names)\n",
    "df2.head()"
   ]
  },
  {
   "cell_type": "code",
   "execution_count": 4,
   "metadata": {
    "collapsed": false
   },
   "outputs": [
    {
     "name": "stdout",
     "output_type": "stream",
     "text": [
      "<class 'pandas.core.frame.DataFrame'>\n",
      "RangeIndex: 23614 entries, 0 to 23613\n",
      "Data columns (total 3 columns):\n",
      "census_tract    23457 non-null float64\n",
      "week            23614 non-null datetime64[ns, psycopg2.tz.FixedOffsetTimezone(offset=0, name=None)]\n",
      "num             23614 non-null int64\n",
      "dtypes: datetime64[ns, psycopg2.tz.FixedOffsetTimezone(offset=0, name=None)](1), float64(1), int64(1)\n",
      "memory usage: 553.5 KB\n"
     ]
    }
   ],
   "source": [
    "df2.info()"
   ]
  },
  {
   "cell_type": "code",
   "execution_count": 5,
   "metadata": {
    "collapsed": false
   },
   "outputs": [
    {
     "data": {
      "text/html": [
       "<div>\n",
       "<table border=\"1\" class=\"dataframe\">\n",
       "  <thead>\n",
       "    <tr style=\"text-align: right;\">\n",
       "      <th></th>\n",
       "      <th>census_tract</th>\n",
       "      <th>num</th>\n",
       "    </tr>\n",
       "  </thead>\n",
       "  <tbody>\n",
       "    <tr>\n",
       "      <th>167</th>\n",
       "      <td>10600.0</td>\n",
       "      <td>26477</td>\n",
       "    </tr>\n",
       "    <tr>\n",
       "      <th>80</th>\n",
       "      <td>5100.0</td>\n",
       "      <td>21311</td>\n",
       "    </tr>\n",
       "    <tr>\n",
       "      <th>117</th>\n",
       "      <td>8100.0</td>\n",
       "      <td>12837</td>\n",
       "    </tr>\n",
       "    <tr>\n",
       "      <th>129</th>\n",
       "      <td>9000.0</td>\n",
       "      <td>10166</td>\n",
       "    </tr>\n",
       "    <tr>\n",
       "      <th>35</th>\n",
       "      <td>2303.0</td>\n",
       "      <td>9709</td>\n",
       "    </tr>\n",
       "    <tr>\n",
       "      <th>120</th>\n",
       "      <td>8301.0</td>\n",
       "      <td>9632</td>\n",
       "    </tr>\n",
       "    <tr>\n",
       "      <th>33</th>\n",
       "      <td>2100.0</td>\n",
       "      <td>9241</td>\n",
       "    </tr>\n",
       "    <tr>\n",
       "      <th>119</th>\n",
       "      <td>8202.0</td>\n",
       "      <td>8985</td>\n",
       "    </tr>\n",
       "    <tr>\n",
       "      <th>17</th>\n",
       "      <td>1101.0</td>\n",
       "      <td>8836</td>\n",
       "    </tr>\n",
       "    <tr>\n",
       "      <th>132</th>\n",
       "      <td>9201.0</td>\n",
       "      <td>7509</td>\n",
       "    </tr>\n",
       "    <tr>\n",
       "      <th>37</th>\n",
       "      <td>2402.0</td>\n",
       "      <td>7420</td>\n",
       "    </tr>\n",
       "    <tr>\n",
       "      <th>8</th>\n",
       "      <td>601.0</td>\n",
       "      <td>7168</td>\n",
       "    </tr>\n",
       "    <tr>\n",
       "      <th>107</th>\n",
       "      <td>7202.0</td>\n",
       "      <td>7107</td>\n",
       "    </tr>\n",
       "    <tr>\n",
       "      <th>27</th>\n",
       "      <td>1701.0</td>\n",
       "      <td>6580</td>\n",
       "    </tr>\n",
       "    <tr>\n",
       "      <th>7</th>\n",
       "      <td>502.0</td>\n",
       "      <td>6481</td>\n",
       "    </tr>\n",
       "    <tr>\n",
       "      <th>108</th>\n",
       "      <td>7300.0</td>\n",
       "      <td>6442</td>\n",
       "    </tr>\n",
       "    <tr>\n",
       "      <th>67</th>\n",
       "      <td>4001.0</td>\n",
       "      <td>6420</td>\n",
       "    </tr>\n",
       "    <tr>\n",
       "      <th>130</th>\n",
       "      <td>9101.0</td>\n",
       "      <td>6250</td>\n",
       "    </tr>\n",
       "    <tr>\n",
       "      <th>81</th>\n",
       "      <td>5200.0</td>\n",
       "      <td>6002</td>\n",
       "    </tr>\n",
       "    <tr>\n",
       "      <th>79</th>\n",
       "      <td>5000.0</td>\n",
       "      <td>5950</td>\n",
       "    </tr>\n",
       "    <tr>\n",
       "      <th>69</th>\n",
       "      <td>4101.0</td>\n",
       "      <td>5869</td>\n",
       "    </tr>\n",
       "    <tr>\n",
       "      <th>9</th>\n",
       "      <td>602.0</td>\n",
       "      <td>5865</td>\n",
       "    </tr>\n",
       "    <tr>\n",
       "      <th>143</th>\n",
       "      <td>9701.0</td>\n",
       "      <td>5600</td>\n",
       "    </tr>\n",
       "    <tr>\n",
       "      <th>118</th>\n",
       "      <td>8201.0</td>\n",
       "      <td>5500</td>\n",
       "    </tr>\n",
       "    <tr>\n",
       "      <th>83</th>\n",
       "      <td>5600.0</td>\n",
       "      <td>5451</td>\n",
       "    </tr>\n",
       "  </tbody>\n",
       "</table>\n",
       "</div>"
      ],
      "text/plain": [
       "     census_tract    num\n",
       "167       10600.0  26477\n",
       "80         5100.0  21311\n",
       "117        8100.0  12837\n",
       "129        9000.0  10166\n",
       "35         2303.0   9709\n",
       "120        8301.0   9632\n",
       "33         2100.0   9241\n",
       "119        8202.0   8985\n",
       "17         1101.0   8836\n",
       "132        9201.0   7509\n",
       "37         2402.0   7420\n",
       "8           601.0   7168\n",
       "107        7202.0   7107\n",
       "27         1701.0   6580\n",
       "7           502.0   6481\n",
       "108        7300.0   6442\n",
       "67         4001.0   6420\n",
       "130        9101.0   6250\n",
       "81         5200.0   6002\n",
       "79         5000.0   5950\n",
       "69         4101.0   5869\n",
       "9           602.0   5865\n",
       "143        9701.0   5600\n",
       "118        8201.0   5500\n",
       "83         5600.0   5451"
      ]
     },
     "execution_count": 5,
     "metadata": {},
     "output_type": "execute_result"
    }
   ],
   "source": [
    "# look at number of crimes by census track\n",
    "grouped_by_ct = df2.groupby('census_tract')['num'].sum().reset_index() # total crimes by census tract, resets index\n",
    "grouped_by_ct.sort_values('num', ascending=False)[:25] # sort by num descending, show top 25"
   ]
  },
  {
   "cell_type": "code",
   "execution_count": 17,
   "metadata": {
    "collapsed": false
   },
   "outputs": [
    {
     "data": {
      "image/png": "[encoded data removed]",
      "text/plain": [
       "<matplotlib.figure.Figure at 0x7f6a1c9329b0>"
      ]
     },
     "metadata": {},
     "output_type": "display_data"
    }
   ],
   "source": [
    "# barchart of top 25 census tracks with highest total crime\n",
    "top_25 = grouped_by_ct.sort_values('num', ascending=False)[:25]\n",
    "sns.set_style(\"whitegrid\")\n",
    "top_25_barplot = sns.barplot(x= top_25['census_tract'],y = top_25['num'], order = top_25['census_tract'], )\n",
    "for item in top_25_barplot.get_xticklabels():\n",
    "    item.set_rotation(90) # rotates x axis labels"
   ]
  },
  {
   "cell_type": "markdown",
   "metadata": {},
   "source": [
    "Census tracts 10600, 5100, and 8100 have significantly higher total number of crimes from 2013-2015."
   ]
  },
  {
   "cell_type": "code",
   "execution_count": 26,
   "metadata": {
    "collapsed": false
   },
   "outputs": [
    {
     "name": "stdout",
     "output_type": "stream",
     "text": [
      "median crimes/tract = 1692.0\n"
     ]
    },
    {
     "data": {
      "text/html": [
       "<div>\n",
       "<table border=\"1\" class=\"dataframe\">\n",
       "  <thead>\n",
       "    <tr style=\"text-align: right;\">\n",
       "      <th></th>\n",
       "      <th>census_tract</th>\n",
       "      <th>num</th>\n",
       "    </tr>\n",
       "  </thead>\n",
       "  <tbody>\n",
       "    <tr>\n",
       "      <th>count</th>\n",
       "      <td>226.000000</td>\n",
       "      <td>226.000000</td>\n",
       "    </tr>\n",
       "    <tr>\n",
       "      <th>mean</th>\n",
       "      <td>15333.889381</td>\n",
       "      <td>2370.022124</td>\n",
       "    </tr>\n",
       "    <tr>\n",
       "      <th>std</th>\n",
       "      <td>65284.805007</td>\n",
       "      <td>3175.054034</td>\n",
       "    </tr>\n",
       "    <tr>\n",
       "      <th>min</th>\n",
       "      <td>100.000000</td>\n",
       "      <td>1.000000</td>\n",
       "    </tr>\n",
       "    <tr>\n",
       "      <th>25%</th>\n",
       "      <td>3526.750000</td>\n",
       "      <td>6.000000</td>\n",
       "    </tr>\n",
       "    <tr>\n",
       "      <th>50%</th>\n",
       "      <td>7750.000000</td>\n",
       "      <td>1692.000000</td>\n",
       "    </tr>\n",
       "    <tr>\n",
       "      <th>75%</th>\n",
       "      <td>20252.250000</td>\n",
       "      <td>3433.500000</td>\n",
       "    </tr>\n",
       "    <tr>\n",
       "      <th>max</th>\n",
       "      <td>980000.000000</td>\n",
       "      <td>26477.000000</td>\n",
       "    </tr>\n",
       "  </tbody>\n",
       "</table>\n",
       "</div>"
      ],
      "text/plain": [
       "        census_tract           num\n",
       "count     226.000000    226.000000\n",
       "mean    15333.889381   2370.022124\n",
       "std     65284.805007   3175.054034\n",
       "min       100.000000      1.000000\n",
       "25%      3526.750000      6.000000\n",
       "50%      7750.000000   1692.000000\n",
       "75%     20252.250000   3433.500000\n",
       "max    980000.000000  26477.000000"
      ]
     },
     "execution_count": 26,
     "metadata": {},
     "output_type": "execute_result"
    }
   ],
   "source": [
    "# some summary stats\n",
    "print('median crimes/tract = '+str(grouped_by_ct['num'].median()))\n",
    "grouped_by_ct.describe()\n"
   ]
  },
  {
   "cell_type": "code",
   "execution_count": 28,
   "metadata": {
    "collapsed": false
   },
   "outputs": [
    {
     "data": {
      "text/plain": [
       "<matplotlib.axes._subplots.AxesSubplot at 0x7f6a1c8b7cf8>"
      ]
     },
     "execution_count": 28,
     "metadata": {},
     "output_type": "execute_result"
    },
    {
     "data": {
      "image/png": "[encoded data removed]",
      "text/plain": [
       "<matplotlib.figure.Figure at 0x7f6a1c837978>"
      ]
     },
     "metadata": {},
     "output_type": "display_data"
    }
   ],
   "source": [
    "sns.distplot(grouped_by_ct['num'])"
   ]
  },
  {
   "cell_type": "markdown",
   "metadata": {},
   "source": [
    "The mean is notably higher than the median which suggests a right skewed distribution with outliers on the high side."
   ]
  }
 ],
 "metadata": {
  "anaconda-cloud": {},
  "kernelspec": {
   "display_name": "Python [conda root]",
   "language": "python",
   "name": "conda-root-py"
  },
  "language_info": {
   "codemirror_mode": {
    "name": "ipython",
    "version": 3
   },
   "file_extension": ".py",
   "mimetype": "text/x-python",
   "name": "python",
   "nbconvert_exporter": "python",
   "pygments_lexer": "ipython3",
   "version": "3.5.2"
  }
 },
 "nbformat": 4,
 "nbformat_minor": 2
}
